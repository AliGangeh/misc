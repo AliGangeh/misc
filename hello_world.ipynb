{
  "nbformat": 4,
  "nbformat_minor": 0,
  "metadata": {
    "colab": {
      "name": "hello world.ipynb",
      "version": "0.3.2",
      "provenance": []
    },
    "kernelspec": {
      "name": "python3",
      "display_name": "Python 3"
    },
    "accelerator": "GPU"
  },
  "cells": [
    {
      "metadata": {
        "id": "ZT5tbrl4HmwN",
        "colab_type": "code",
        "colab": {
          "base_uri": "https://localhost:8080/",
          "height": 34
        },
        "outputId": "5e806bf3-815e-44b7-b899-a6e5dd146c2a"
      },
      "cell_type": "code",
      "source": [
        "print(\"hello world\");"
      ],
      "execution_count": 1,
      "outputs": [
        {
          "output_type": "stream",
          "text": [
            "hello world\n"
          ],
          "name": "stdout"
        }
      ]
    },
    {
      "metadata": {
        "id": "WXfUS7A9H3tW",
        "colab_type": "text"
      },
      "cell_type": "markdown",
      "source": [
        "# Hello "
      ]
    }
  ]
}